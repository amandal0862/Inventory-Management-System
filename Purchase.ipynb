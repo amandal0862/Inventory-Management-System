{
 "cells": [
  {
   "cell_type": "code",
   "execution_count": 2,
   "id": "838243d2",
   "metadata": {},
   "outputs": [],
   "source": [
    "import json\n",
    "\n",
    "fd = open(\"record.json\",'r')\n",
    "r = fd.read()\n",
    "fd.close()\n",
    "\n",
    "records = json.loads(r)"
   ]
  },
  {
   "cell_type": "code",
   "execution_count": 3,
   "id": "80cd576f",
   "metadata": {},
   "outputs": [],
   "source": [
    "sales={}"
   ]
  },
  {
   "cell_type": "code",
   "execution_count": 4,
   "id": "2fe1d605",
   "metadata": {},
   "outputs": [
    {
     "data": {
      "text/plain": [
       "{'1001': {'name': 'Choco Cake', 'qn': 39, 'pr': 100},\n",
       " '1002': {'name': 'Milk Cake', 'pr': 800, 'qn': 95},\n",
       " '1003': {'name': 'Drink', 'pr': 85, 'qn': 100},\n",
       " '1004': {'name': 'Candy', 'pr': 5, 'qn': 1000},\n",
       " '1005': {'name': 'Pen', 'pr': 20, 'qn': 95},\n",
       " '1006': {'name': 'Phone', 'pr': 50000, 'qn': 10},\n",
       " '1007': {'name': 'Mic', 'pr': 1500, 'qn': 0},\n",
       " '1008': {'name': 'Case', 'pr': 599, 'qn': 5},\n",
       " '1009': {'name': 'Keyboard', 'pr': 1999, 'qn': 10},\n",
       " '1010': {'name': 'Peanuts', 'pr': 150, 'qn': 94},\n",
       " '1011': {'name': 'Chips', 'pr': 20, 'qn': 200},\n",
       " '1012': {'name': 'Choco Lava', 'pr': 40, 'qn': 150},\n",
       " '1013': {'name': 'Kurkure', 'pr': 20, 'qn': 50},\n",
       " '1014': {'name': 'Books', 'pr': 60, 'qn': 350},\n",
       " '1015': {'name': 'Rice', 'pr': 101, 'qn': 200},\n",
       " '1016': {'name': 'Butter', 'pr': 150, 'qn': 30},\n",
       " '1017': {'name': 'ProteinX', 'pr': 250, 'qn': 15},\n",
       " '1018': {'name': 'Water', 'pr': 20, 'qn': 250},\n",
       " '1019': {'name': 'Bread', 'pr': 35, 'qn': 80},\n",
       " '1020': {'name': 'juce', 'pr': 20, 'qn': 146},\n",
       " '1021': {'name': 'Oil', 'pr': 200, 'qn': 100},\n",
       " '1022': {'name': 'Coke', 'pr': 20, 'qn': 50},\n",
       " '1023': {'name': 'Pepsi', 'pr': 25, 'qn': 150},\n",
       " '1024': {'name': 'Slice', 'pr': 30, 'qn': 50},\n",
       " '1025': {'name': 'Rasgulla', 'pr': 150, 'qn': 300},\n",
       " '1026': {'name': 'pastry', 'pr': 25, 'qn': 50},\n",
       " '1027': {'name': 'Cream', 'pr': 90, 'qn': 1000},\n",
       " '1028': {'name': 'Ice Cream', 'pr': 45, 'qn': 150},\n",
       " '1029': {'name': 'Almonds', 'pr': 150, 'qn': 155},\n",
       " '1030': {'name': 'Sweets', 'pr': 12, 'qn': 294},\n",
       " '1031': {'name': 'Battery', 'pr': 20, 'qn': 200},\n",
       " '1032': {'name': 'Fruits', 'pr': 50, 'qn': 100}}"
      ]
     },
     "execution_count": 4,
     "metadata": {},
     "output_type": "execute_result"
    }
   ],
   "source": [
    "records"
   ]
  },
  {
   "cell_type": "markdown",
   "id": "15aa7ac8",
   "metadata": {},
   "source": [
    "# Purchase"
   ]
  },
  {
   "cell_type": "code",
   "execution_count": 19,
   "id": "7608704b",
   "metadata": {},
   "outputs": [
    {
     "name": "stdout",
     "output_type": "stream",
     "text": [
      "Enter the product_Id: 1020\n",
      "Enter the quantity: 20\n",
      "Product:  juce\n",
      "Price:  20\n",
      "Billing Amount:  400\n"
     ]
    }
   ],
   "source": [
    "ui_prod  = str(input(\"Enter the product_Id: \"))\n",
    "ui_quant = int(input(\"Enter the quantity: \"))\n",
    "\n",
    "if(ui_quant < records[ui_prod]['qn']):\n",
    "    print(\"Product: \", records[ui_prod]['name'])\n",
    "    print(\"Price: \", records[ui_prod]['pr'])\n",
    "    print(\"Billing Amount: \", records[ui_prod]['pr'] * ui_quant)\n",
    "    records[ui_prod]['qn'] = records[ui_prod]['qn'] - ui_quant\n",
    "else:\n",
    "    print(f\"Items available {records[ui_prod]['qn']}\\nEnter less quanity\")\n",
    "    \n",
    "#Updates Inventory after purchase\n",
    "js = json.dumps(records)\n",
    "\n",
    "fd = open(\"record.json\",'w')\n",
    "fd.write(js)\n",
    "fd.close()\n",
    "\n",
    "#Creating sales\n",
    "sales[len(sales)+1] = {'prod' : ui_prod, 'qn' : ui_quant, 'amount': records[ui_prod]['pr'] * ui_quant}"
   ]
  },
  {
   "cell_type": "markdown",
   "id": "17064810",
   "metadata": {},
   "source": [
    "# Sales"
   ]
  },
  {
   "cell_type": "code",
   "execution_count": 20,
   "id": "adbe5c24",
   "metadata": {},
   "outputs": [
    {
     "data": {
      "text/plain": [
       "{1: {'prod': '1001', 'qn': 5, 'amount': 500},\n",
       " 2: {'prod': '1030', 'qn': 10, 'amount': 120},\n",
       " 3: {'prod': '1010', 'qn': 10, 'amount': 1500},\n",
       " 4: {'prod': '1025', 'qn': 5, 'amount': 750},\n",
       " 5: {'prod': '1020', 'qn': 20, 'amount': 400}}"
      ]
     },
     "execution_count": 20,
     "metadata": {},
     "output_type": "execute_result"
    }
   ],
   "source": [
    "sales"
   ]
  },
  {
   "cell_type": "code",
   "execution_count": 21,
   "id": "61e82e5e",
   "metadata": {},
   "outputs": [],
   "source": [
    "sale = json.dumps(sales)\n",
    "f = open(\"sales.json\",'w')\n",
    "f.write(sale)\n",
    "f.close()"
   ]
  },
  {
   "cell_type": "code",
   "execution_count": null,
   "id": "9aa3ed65",
   "metadata": {},
   "outputs": [],
   "source": []
  }
 ],
 "metadata": {
  "kernelspec": {
   "display_name": "Python 3",
   "language": "python",
   "name": "python3"
  },
  "language_info": {
   "codemirror_mode": {
    "name": "ipython",
    "version": 3
   },
   "file_extension": ".py",
   "mimetype": "text/x-python",
   "name": "python",
   "nbconvert_exporter": "python",
   "pygments_lexer": "ipython3",
   "version": "3.8.8"
  }
 },
 "nbformat": 4,
 "nbformat_minor": 5
}
