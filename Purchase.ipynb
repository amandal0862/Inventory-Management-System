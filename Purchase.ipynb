{
 "cells": [
  {
   "cell_type": "markdown",
   "source": [
    "# Purchase"
   ],
   "metadata": {}
  },
  {
   "cell_type": "code",
   "execution_count": 3,
   "source": [
    "import json\r\n",
    "\r\n",
    "fd = open(\"record.json\",'r')\r\n",
    "r = fd.read()\r\n",
    "fd.close()\r\n",
    "\r\n",
    "fd = open(\"sales.json\",'r')\r\n",
    "s = fd.read()\r\n",
    "fd.close()\r\n",
    "\r\n",
    "records = json.loads(r)\r\n",
    "sales = json.loads(s)\r\n",
    "\r\n",
    "ui_prod  = str(input(\"Enter the product_Id: \"))\r\n",
    "if(ui_prod in records.keys()):\r\n",
    "    print(\"Product: \", records[ui_prod]['name'])\r\n",
    "    print(\"Price: Rs \", records[ui_prod]['pr'])\r\n",
    "    print(\"Quantity available : \",records[ui_prod]['qn'])\r\n",
    "    ui_quant = int(input(\"Enter the quantity: \"))\r\n",
    "\r\n",
    "\r\n",
    "    if(ui_quant < records[ui_prod]['qn']):\r\n",
    "        print(\"Quantity Purchased : \", ui_quant)\r\n",
    "        print(\"********************************\")\r\n",
    "        print(\"Billing Amount: Rs \", records[ui_prod]['pr'] * ui_quant)\r\n",
    "        print(\"********************************\")\r\n",
    "        records[ui_prod]['qn'] = records[ui_prod]['qn'] - ui_quant\r\n",
    "\r\n",
    "        #Updates Inventory after purchase\r\n",
    "        js = json.dumps(records)\r\n",
    "\r\n",
    "        fd = open(\"record.json\",'w')\r\n",
    "        fd.write(js)\r\n",
    "        fd.close()\r\n",
    "\r\n",
    "        #Creating sales\r\n",
    "        sales[len(sales)+1] = {'prod' : ui_prod, 'qn' : ui_quant, 'amount': records[ui_prod]['pr'] * ui_quant}\r\n",
    "        sale = json.dumps(sales)\r\n",
    "        f = open(\"sales.json\",'w')\r\n",
    "        f.write(sale)\r\n",
    "        f.close()\r\n",
    "    else:\r\n",
    "        print(\"Enter less quanity\")\r\n",
    "else:\r\n",
    "    print(\"Product Does Not Exist\\nThank You\")"
   ],
   "outputs": [
    {
     "output_type": "stream",
     "name": "stdout",
     "text": [
      "Product Does Not Exist\n",
      "Thank You\n"
     ]
    }
   ],
   "metadata": {}
  },
  {
   "cell_type": "markdown",
   "source": [
    "# Sales"
   ],
   "metadata": {}
  },
  {
   "cell_type": "code",
   "execution_count": 4,
   "source": [
    "sales"
   ],
   "outputs": [
    {
     "output_type": "execute_result",
     "data": {
      "text/plain": [
       "{'1': {'prod': '1001', 'qn': 50, 'amount': 5000},\n",
       " '2': {'prod': '1010', 'qn': 50, 'amount': 7500},\n",
       " '3': {'prod': '1001', 'qn': 10, 'amount': 1000},\n",
       " '4': {'prod': '1001', 'qn': 10, 'amount': 1000}}"
      ]
     },
     "metadata": {},
     "execution_count": 4
    }
   ],
   "metadata": {}
  }
 ],
 "metadata": {
  "kernelspec": {
   "name": "python3",
   "display_name": "Python 3.9.6 64-bit"
  },
  "language_info": {
   "codemirror_mode": {
    "name": "ipython",
    "version": 3
   },
   "file_extension": ".py",
   "mimetype": "text/x-python",
   "name": "python",
   "nbconvert_exporter": "python",
   "pygments_lexer": "ipython3",
   "version": "3.9.6"
  },
  "interpreter": {
   "hash": "51179692a984ce53bb6f21bdf9e0b39039a88f8ce82969b97a7b4b49c7b172f3"
  }
 },
 "nbformat": 4,
 "nbformat_minor": 5
}