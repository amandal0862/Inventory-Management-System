{
 "cells": [
  {
   "cell_type": "code",
   "execution_count": 1,
   "id": "a8926ec9",
   "metadata": {},
   "outputs": [],
   "source": [
    "import sys\n",
    "import json"
   ]
  },
  {
   "cell_type": "code",
   "execution_count": 6,
   "id": "56e907c9",
   "metadata": {},
   "outputs": [],
   "source": [
    "fd = open(\"record.json\",'r')\n",
    "r = fd.read()\n",
    "fd.close()\n",
    "\n",
    "record = json.loads(r)"
   ]
  },
  {
   "cell_type": "code",
   "execution_count": 7,
   "id": "e6cf48f9",
   "metadata": {},
   "outputs": [
    {
     "data": {
      "text/plain": [
       "{'1001': {'name': 'Choco Cake', 'qn': 29, 'pr': 100},\n",
       " '1002': {'name': 'Milk Cake', 'pr': 800, 'qn': 95},\n",
       " '1003': {'name': 'Drink', 'pr': 85, 'qn': 100},\n",
       " '1004': {'name': 'Candy', 'pr': 5, 'qn': 1000},\n",
       " '1005': {'name': 'Pen', 'pr': 20, 'qn': 95},\n",
       " '1006': {'name': 'Phone', 'pr': 50000, 'qn': 10},\n",
       " '1007': {'name': 'Mic', 'pr': 1500, 'qn': 0},\n",
       " '1008': {'name': 'Case', 'pr': 599, 'qn': 5},\n",
       " '1009': {'name': 'Keyboard', 'pr': 1999, 'qn': 10},\n",
       " '1010': {'name': 'Peanuts', 'pr': 150, 'qn': 94},\n",
       " '1011': {'name': 'Chips', 'pr': 20, 'qn': 200},\n",
       " '1012': {'name': 'Choco Lava', 'pr': 40, 'qn': 150},\n",
       " '1013': {'name': 'Kurkure', 'pr': 20, 'qn': 50},\n",
       " '1014': {'name': 'Books', 'pr': 60, 'qn': 350},\n",
       " '1015': {'name': 'Rice', 'pr': 101, 'qn': 200},\n",
       " '1016': {'name': 'Butter', 'pr': 150, 'qn': 30},\n",
       " '1017': {'name': 'ProteinX', 'pr': 250, 'qn': 15},\n",
       " '1018': {'name': 'Water', 'pr': 20, 'qn': 250},\n",
       " '1019': {'name': 'Bread', 'pr': 35, 'qn': 80},\n",
       " '1020': {'name': 'juce', 'pr': 20, 'qn': 146},\n",
       " '1021': {'name': 'Oil', 'pr': 200, 'qn': 100},\n",
       " '1022': {'name': 'Coke', 'pr': 20, 'qn': 50},\n",
       " '1023': {'name': 'Pepsi', 'pr': 25, 'qn': 150},\n",
       " '1024': {'name': 'Slice', 'pr': 30, 'qn': 50},\n",
       " '1025': {'name': 'Rasgulla', 'pr': 150, 'qn': 300},\n",
       " '1026': {'name': 'pastry', 'pr': 25, 'qn': 50},\n",
       " '1027': {'name': 'Cream', 'pr': 90, 'qn': 1000},\n",
       " '1028': {'name': 'Ice Cream', 'pr': 45, 'qn': 150},\n",
       " '1029': {'name': 'Almonds', 'pr': 150, 'qn': 155},\n",
       " '1030': {'name': 'Sweets', 'pr': 12, 'qn': 244},\n",
       " '1031': {'name': 'Battery', 'pr': 20, 'qn': 200},\n",
       " '1032': {'name': 'Fruits', 'pr': 50, 'qn': 100}}"
      ]
     },
     "execution_count": 7,
     "metadata": {},
     "output_type": "execute_result"
    }
   ],
   "source": [
    "record"
   ]
  },
  {
   "cell_type": "markdown",
   "id": "e60b9b45",
   "metadata": {},
   "source": [
    "# Add New Item into Inventory"
   ]
  },
  {
   "cell_type": "code",
   "execution_count": 9,
   "id": "730a8333",
   "metadata": {
    "scrolled": true
   },
   "outputs": [
    {
     "name": "stdout",
     "output_type": "stream",
     "text": [
      "Enter product ID: 1001\n",
      "Item already exist\n",
      "\n",
      "Enter quantity to add :10\n",
      "Quantity added succesfully\n"
     ]
    },
    {
     "ename": "SystemExit",
     "evalue": "Quantity added succesfully",
     "output_type": "error",
     "traceback": [
      "An exception has occurred, use %tb to see the full traceback.\n",
      "\u001b[1;31mSystemExit\u001b[0m\u001b[1;31m:\u001b[0m Quantity added succesfully\n"
     ]
    }
   ],
   "source": [
    "prod_id = input('Enter product ID: ')\n",
    "for i in record:\n",
    "    if(prod_id == i):\n",
    "        print(\"Item already exist\\n\")\n",
    "        qn = int(input(\"Enter quantity to add :\"))\n",
    "        record[prod_id]['qn'] += qn\n",
    "        print('Quantity added succesfully')\n",
    "        js = json.dumps(record)\n",
    "        fd = open(\"record.json\",'w')\n",
    "        fd.write(js)\n",
    "        fd.close()\n",
    "        sys.exit()\n",
    "        \n",
    "name = str(input(\"Enter name:\"))\n",
    "pr = int(input(\"Enter price:\"))\n",
    "qn = int(input(\"Enter quantity:\"))\n",
    "\n",
    "record[prod_id] = {'name': name, 'pr': pr, 'qn': qn}\n",
    "\n",
    "print('Record added succesfully')\n",
    "\n",
    "js = json.dumps(record)\n",
    "\n",
    "fd = open(\"record.json\",'w')\n",
    "\n",
    "fd.write(js)\n",
    "fd.close()\n"
   ]
  },
  {
   "cell_type": "code",
   "execution_count": 5,
   "id": "0f75c59f",
   "metadata": {},
   "outputs": [
    {
     "data": {
      "text/plain": [
       "{'1001': {'name': 'Choco Cake', 'qn': 29, 'pr': 100},\n",
       " '1002': {'name': 'Milk Cake', 'pr': 800, 'qn': 95},\n",
       " '1003': {'name': 'Drink', 'pr': 85, 'qn': 100},\n",
       " '1004': {'name': 'Candy', 'pr': 5, 'qn': 1000},\n",
       " '1005': {'name': 'Pen', 'pr': 20, 'qn': 95},\n",
       " '1006': {'name': 'Phone', 'pr': 50000, 'qn': 10},\n",
       " '1007': {'name': 'Mic', 'pr': 1500, 'qn': 0},\n",
       " '1008': {'name': 'Case', 'pr': 599, 'qn': 5},\n",
       " '1009': {'name': 'Keyboard', 'pr': 1999, 'qn': 10},\n",
       " '1010': {'name': 'Peanuts', 'pr': 150, 'qn': 94},\n",
       " '1011': {'name': 'Chips', 'pr': 20, 'qn': 200},\n",
       " '1012': {'name': 'Choco Lava', 'pr': 40, 'qn': 150},\n",
       " '1013': {'name': 'Kurkure', 'pr': 20, 'qn': 50},\n",
       " '1014': {'name': 'Books', 'pr': 60, 'qn': 350},\n",
       " '1015': {'name': 'Rice', 'pr': 101, 'qn': 200},\n",
       " '1016': {'name': 'Butter', 'pr': 150, 'qn': 30},\n",
       " '1017': {'name': 'ProteinX', 'pr': 250, 'qn': 15},\n",
       " '1018': {'name': 'Water', 'pr': 20, 'qn': 250},\n",
       " '1019': {'name': 'Bread', 'pr': 35, 'qn': 80},\n",
       " '1020': {'name': 'juce', 'pr': 20, 'qn': 146},\n",
       " '1021': {'name': 'Oil', 'pr': 200, 'qn': 100},\n",
       " '1022': {'name': 'Coke', 'pr': 20, 'qn': 50},\n",
       " '1023': {'name': 'Pepsi', 'pr': 25, 'qn': 150},\n",
       " '1024': {'name': 'Slice', 'pr': 30, 'qn': 50},\n",
       " '1025': {'name': 'Rasgulla', 'pr': 150, 'qn': 300},\n",
       " '1026': {'name': 'pastry', 'pr': 25, 'qn': 50},\n",
       " '1027': {'name': 'Cream', 'pr': 90, 'qn': 1000},\n",
       " '1028': {'name': 'Ice Cream', 'pr': 45, 'qn': 150},\n",
       " '1029': {'name': 'Almonds', 'pr': 150, 'qn': 155},\n",
       " '1030': {'name': 'Sweets', 'pr': 12, 'qn': 244},\n",
       " '1031': {'name': 'Battery', 'pr': 20, 'qn': 200},\n",
       " '1032': {'name': 'Fruits', 'pr': 50, 'qn': 100}}"
      ]
     },
     "execution_count": 5,
     "metadata": {},
     "output_type": "execute_result"
    }
   ],
   "source": [
    "record"
   ]
  },
  {
   "cell_type": "code",
   "execution_count": null,
   "id": "cf9beb6b",
   "metadata": {},
   "outputs": [],
   "source": []
  }
 ],
 "metadata": {
  "kernelspec": {
   "display_name": "Python 3",
   "language": "python",
   "name": "python3"
  },
  "language_info": {
   "codemirror_mode": {
    "name": "ipython",
    "version": 3
   },
   "file_extension": ".py",
   "mimetype": "text/x-python",
   "name": "python",
   "nbconvert_exporter": "python",
   "pygments_lexer": "ipython3",
   "version": "3.8.8"
  }
 },
 "nbformat": 4,
 "nbformat_minor": 5
}
