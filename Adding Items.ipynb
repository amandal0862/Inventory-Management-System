{
 "cells": [
  {
   "cell_type": "markdown",
   "source": [
    "# Add New Item into Inventory"
   ],
   "metadata": {}
  },
  {
   "cell_type": "code",
   "execution_count": null,
   "source": [
    "import json\r\n",
    "fd = open(\"record.json\",'r')\r\n",
    "r = fd.read()\r\n",
    "fd.close()\r\n",
    "\r\n",
    "record = json.loads(r)\r\n",
    "\r\n",
    "prod_id = input('Enter product ID: ')\r\n",
    "if(prod_id in record.keys()):\r\n",
    "    print(\"Item already exist\\n\")\r\n",
    "    qn = int(input(\"Enter quantity to add :\"))\r\n",
    "    record[prod_id]['qn'] += qn\r\n",
    "    print('Quantity added succesfully')\r\n",
    "else:        \r\n",
    "    name = str(input(\"Enter name:\"))\r\n",
    "    pr = int(input(\"Enter price:\"))\r\n",
    "    qn = int(input(\"Enter quantity:\"))\r\n",
    "\r\n",
    "    record[prod_id] = {'name': name, 'pr': pr, 'qn': qn}\r\n",
    "\r\n",
    "    print('Record added succesfully\\n')\r\n",
    "    \r\n",
    "\r\n",
    "print(record[prod_id])\r\n",
    "\r\n",
    "js = json.dumps(record)\r\n",
    "fd = open(\"record.json\",'w')\r\n",
    "fd.write(js)\r\n",
    "fd.close()"
   ],
   "outputs": [],
   "metadata": {
    "scrolled": true
   }
  }
 ],
 "metadata": {
  "kernelspec": {
   "name": "python3",
   "display_name": "Python 3.9.6 64-bit"
  },
  "language_info": {
   "codemirror_mode": {
    "name": "ipython",
    "version": 3
   },
   "file_extension": ".py",
   "mimetype": "text/x-python",
   "name": "python",
   "nbconvert_exporter": "python",
   "pygments_lexer": "ipython3",
   "version": "3.9.6"
  },
  "interpreter": {
   "hash": "51179692a984ce53bb6f21bdf9e0b39039a88f8ce82969b97a7b4b49c7b172f3"
  }
 },
 "nbformat": 4,
 "nbformat_minor": 5
}